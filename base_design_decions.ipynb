{
 "cells": [
  {
   "cell_type": "code",
   "execution_count": 14,
   "metadata": {
    "ExecuteTime": {
     "end_time": "2025-03-19T20:35:34.526817Z",
     "start_time": "2025-03-19T20:35:34.520539Z"
    }
   },
   "outputs": [
    {
     "data": {
      "text/plain": "<torch._C.Generator at 0x115a113f0>"
     },
     "execution_count": 14,
     "metadata": {},
     "output_type": "execute_result"
    }
   ],
   "source": [
    "import os\n",
    "import torch\n",
    "from torch import nn\n",
    "from torch.utils.data import DataLoader, Dataset\n",
    "from transformers import BertTokenizer, BertModel, AdamW, get_linear_schedule_with_warmup\n",
    "from sklearn.model_selection import train_test_split\n",
    "from sklearn.metrics import accuracy_score, classification_report, roc_auc_score\n",
    "import pandas as pd\n",
    "from ignite.engine import Engine, Events\n",
    "from ignite.metrics import Accuracy, ROC_AUC, Loss\n",
    "from torchinfo import summary\n",
    "from ignite.handlers import EarlyStopping\n",
    "\n",
    "import random\n",
    "import numpy as np\n",
    "torch.use_deterministic_algorithms(True)\n",
    "np.random.seed(0)\n",
    "random.seed(0)\n",
    "torch.manual_seed(0)"
   ]
  },
  {
   "cell_type": "markdown",
   "source": [
    "# Load Dataset From Disk"
   ],
   "metadata": {
    "collapsed": false
   }
  },
  {
   "cell_type": "code",
   "execution_count": 27,
   "metadata": {
    "ExecuteTime": {
     "end_time": "2025-03-19T20:37:00.799064Z",
     "start_time": "2025-03-19T20:37:00.069243Z"
    }
   },
   "outputs": [
    {
     "name": "stdout",
     "output_type": "stream",
     "text": [
      "label\n",
      "design     5\n",
      "general    4\n",
      "Name: count, dtype: int64\n"
     ]
    }
   ],
   "source": [
    "def load_imdb_data(data_filie, size):\n",
    "    df = pd.read_csv(data_filie)\n",
    "    if size > 0:\n",
    "        df = df[1: size]\n",
    "    raw_text = df['text'].tolist()\n",
    "    print(df['label'].value_counts())\n",
    "    raw_text_labels = [1 if sentiment == 'design' else 0 for sentiment in df['label'].tolist()]\n",
    "    return raw_text, raw_text_labels\n",
    "\n",
    "texts, labels = load_imdb_data('./combined_raw.csv', 10)"
   ]
  },
  {
   "cell_type": "code",
   "outputs": [],
   "source": [],
   "metadata": {
    "collapsed": false,
    "ExecuteTime": {
     "end_time": "2025-03-19T20:37:03.945450Z",
     "start_time": "2025-03-19T20:37:03.943177Z"
    }
   },
   "execution_count": 27
  },
  {
   "cell_type": "code",
   "execution_count": 28,
   "metadata": {
    "ExecuteTime": {
     "end_time": "2025-03-19T20:37:04.328343Z",
     "start_time": "2025-03-19T20:37:04.325167Z"
    }
   },
   "outputs": [],
   "source": [
    "class TextClassificationDataset(Dataset):\n",
    "    \n",
    "    def __init__(self, texts, labels, tokenizer, max_length):\n",
    "        self.texts = texts\n",
    "        self.labels = labels\n",
    "        self.tokenizer = tokenizer\n",
    "        self.max_length = max_length\n",
    "        \n",
    "    \n",
    "    def __len__(self):\n",
    "        return len(self.texts)\n",
    "    \n",
    "    def __getitem__(self, idx):\n",
    "        text = self.texts[idx]\n",
    "        label = self.labels[idx]\n",
    "        encoding = self.tokenizer(text, return_tensors='pt', \n",
    "                                  max_length=self.max_length, padding='max_length', truncation=True)\n",
    "        return {'input_ids': encoding['input_ids'].flatten(), \n",
    "                'attention_mask': encoding['attention_mask'].flatten(),\n",
    "                'label': torch.tensor(label)}\n",
    "\n"
   ]
  },
  {
   "cell_type": "code",
   "outputs": [],
   "source": [
    "bert_model_name = 'bert-base-uncased'\n",
    "num_classes = 2\n",
    "max_length = 128\n",
    "batch_size = 5\n",
    "\n",
    "train_texts, val_texts, train_labels, val_labels = train_test_split(texts, labels, test_size=0.2, random_state=42)\n",
    "\n",
    "tokenizer = BertTokenizer.from_pretrained(bert_model_name)\n",
    "\n",
    "train_dataset = TextClassificationDataset(train_texts, train_labels, tokenizer,  max_length)\n",
    "val_dataset = TextClassificationDataset(val_texts, val_labels, tokenizer, max_length)\n",
    "\n",
    "\n",
    "train_dataloader = DataLoader(train_dataset, batch_size=batch_size, shuffle=True)\n",
    "val_dataloader = DataLoader(val_dataset, batch_size=batch_size)"
   ],
   "metadata": {
    "collapsed": false,
    "ExecuteTime": {
     "end_time": "2025-03-19T20:37:04.769883Z",
     "start_time": "2025-03-19T20:37:04.701671Z"
    }
   },
   "execution_count": 29
  },
  {
   "cell_type": "markdown",
   "source": [
    "## Construct the Classifier"
   ],
   "metadata": {
    "collapsed": false
   }
  },
  {
   "cell_type": "code",
   "outputs": [],
   "source": [
    "class BertClassifier(nn.Module):\n",
    "    def __init__(self, bert_model_name, num_classes):\n",
    "        super(BertClassifier, self).__init__()\n",
    "        self.bert = BertModel.from_pretrained(bert_model_name)\n",
    "        self.dropout = nn.Dropout(0.1)\n",
    "        self.fc = nn.Linear(self.bert.config.hidden_size, 1) # choose 1 since we are doing binary classification\n",
    "        \n",
    "    \n",
    "    def forward(self, input_ids, attention_mask):\n",
    "        outputs = self.bert(input_ids=input_ids, attention_mask=attention_mask)\n",
    "        pooled_output = outputs.pooler_output\n",
    "        x = self.dropout(pooled_output)\n",
    "        logits = self.fc(x)\n",
    "        return logits\n",
    "    \n"
   ],
   "metadata": {
    "collapsed": false,
    "ExecuteTime": {
     "end_time": "2025-03-19T20:37:05.231106Z",
     "start_time": "2025-03-19T20:37:05.226872Z"
    }
   },
   "execution_count": 30
  },
  {
   "cell_type": "code",
   "outputs": [
    {
     "name": "stdout",
     "output_type": "stream",
     "text": [
      "Using device: mps\n"
     ]
    }
   ],
   "source": [
    "if torch.backends.mps.is_available():\n",
    "    device = torch.device(\"mps\") \n",
    "elif torch.cuda.is_available():\n",
    "    device = torch.device(\"cuda\")\n",
    "else:\n",
    "    device = torch.device(\"cpu\")\n",
    "\n",
    "print(f\"Using device: {device}\")"
   ],
   "metadata": {
    "collapsed": false,
    "ExecuteTime": {
     "end_time": "2025-03-19T20:37:05.488125Z",
     "start_time": "2025-03-19T20:37:05.485473Z"
    }
   },
   "execution_count": 31
  },
  {
   "cell_type": "markdown",
   "source": [
    "## Define Training and Evaluation Functions"
   ],
   "metadata": {
    "collapsed": false
   }
  },
  {
   "cell_type": "code",
   "outputs": [
    {
     "name": "stderr",
     "output_type": "stream",
     "text": [
      "/Users/lithe/.conda/envs/conc_stab/lib/python3.10/site-packages/transformers/optimization.py:640: FutureWarning: This implementation of AdamW is deprecated and will be removed in a future version. Use the PyTorch implementation torch.optim.AdamW instead, or set `no_deprecation_warning=True` to disable this warning\n",
      "  warnings.warn(\n"
     ]
    }
   ],
   "source": [
    "learning_rate = 2e-5\n",
    "\n",
    "\n",
    "model = BertClassifier(bert_model_name, num_classes).to(device)\n",
    "optimizer = AdamW(model.parameters(), lr=learning_rate)\n"
   ],
   "metadata": {
    "collapsed": false,
    "ExecuteTime": {
     "end_time": "2025-03-19T20:37:07.389834Z",
     "start_time": "2025-03-19T20:37:06.030537Z"
    }
   },
   "execution_count": 32
  },
  {
   "cell_type": "code",
   "outputs": [
    {
     "data": {
      "text/plain": "=======================================================================================================================================\nLayer (type:depth-idx)                                       Input Shape               Output Shape              Param #\n=======================================================================================================================================\nBertClassifier                                               [5, 128]                  [5, 1]                    --\n├─BertModel: 1-1                                             --                        [5, 768]                  --\n│    └─BertEmbeddings: 2-1                                   --                        [5, 128, 768]             --\n│    │    └─Embedding: 3-1                                   [5, 128]                  [5, 128, 768]             23,440,896\n│    │    └─Embedding: 3-2                                   [5, 128]                  [5, 128, 768]             1,536\n│    │    └─Embedding: 3-3                                   [1, 128]                  [1, 128, 768]             393,216\n│    │    └─LayerNorm: 3-4                                   [5, 128, 768]             [5, 128, 768]             1,536\n│    │    └─Dropout: 3-5                                     [5, 128, 768]             [5, 128, 768]             --\n│    └─BertEncoder: 2-2                                      [5, 128, 768]             [5, 128, 768]             --\n│    │    └─ModuleList: 3-6                                  --                        --                        85,054,464\n│    └─BertPooler: 2-3                                       [5, 128, 768]             [5, 768]                  --\n│    │    └─Linear: 3-7                                      [5, 768]                  [5, 768]                  590,592\n│    │    └─Tanh: 3-8                                        [5, 768]                  [5, 768]                  --\n├─Dropout: 1-2                                               [5, 768]                  [5, 768]                  --\n├─Linear: 1-3                                                [5, 768]                  [5, 1]                    769\n=======================================================================================================================================\nTotal params: 109,483,009\nTrainable params: 109,483,009\nNon-trainable params: 0\nTotal mult-adds (M): 545.84\n=======================================================================================================================================\nInput size (MB): 0.01\nForward/backward pass size (MB): 531.66\nParams size (MB): 437.93\nEstimated Total Size (MB): 969.60\n======================================================================================================================================="
     },
     "execution_count": 33,
     "metadata": {},
     "output_type": "execute_result"
    }
   ],
   "source": [
    "# model summary\n",
    "data_iter = iter(train_dataloader)\n",
    "sample_batch = next(data_iter)  # Get first batch of data\n",
    "\n",
    "if isinstance(sample_batch, dict):\n",
    "    input_ids = sample_batch['input_ids']\n",
    "    attention_mask = sample_batch['attention_mask']\n",
    "elif isinstance(sample_batch, (list, tuple)):  \n",
    "    input_ids, attention_mask, _ = sample_batch \n",
    "else:\n",
    "    raise TypeError(\"Unexpected data format from DataLoader\")\n",
    "\n",
    "summary(model, input_data=(input_ids, attention_mask), \n",
    "        col_names=[\"input_size\", \"output_size\", \"num_params\"], device=device)\n"
   ],
   "metadata": {
    "collapsed": false,
    "ExecuteTime": {
     "end_time": "2025-03-19T20:37:07.456760Z",
     "start_time": "2025-03-19T20:37:07.392109Z"
    }
   },
   "execution_count": 33
  },
  {
   "cell_type": "code",
   "outputs": [],
   "source": [
    "def train_step(engine, batch):\n",
    "    model.train()\n",
    "    \n",
    "    optimizer.zero_grad()\n",
    "    \n",
    "    input_ids = batch['input_ids'].to(device)\n",
    "    attention_mask = batch['attention_mask'].to(device)\n",
    "    \n",
    "    labels = batch['label'].to(device, dtype=torch.float32)\n",
    "    \n",
    "    labels = labels.unsqueeze(1)\n",
    "  \n",
    "    \n",
    "    outputs = model(input_ids=input_ids, attention_mask=attention_mask)\n",
    "    \n",
    "    loss = nn.BCEWithLogitsLoss()(outputs, labels)\n",
    "    loss.backward()\n",
    "    \n",
    "    optimizer.step()\n",
    "    \n",
    "    return loss.item()\n",
    "\n",
    "def evaluation_step(engine, batch):\n",
    "    model.eval()\n",
    "    \n",
    "    with torch.no_grad():\n",
    "            input_ids = batch['input_ids'].to(device)\n",
    "            attention_mask = batch['attention_mask'].to(device)\n",
    "            labels = batch['label'].to(device)\n",
    "            \n",
    "            logits = model(input_ids=input_ids, attention_mask=attention_mask)\n",
    "            \n",
    "            prediction_probability = torch.sigmoid(logits)\n",
    "            predictions = (prediction_probability >= 0.5).float()\n",
    "            \n",
    "            actual_labels = labels\n",
    "        \n",
    "    return logits, prediction_probability, predictions,  actual_labels\n",
    "        \n",
    "\n",
    "\n",
    "    \n",
    "trainer = Engine(train_step)\n",
    "evaluator  = Engine(evaluation_step)\n",
    "\n",
    "@trainer.on(Events.EPOCH_COMPLETED(every=1))\n",
    "def run_validation():\n",
    "    evaluator.run(val_dataloader)\n",
    "    \n",
    "\n",
    "\n",
    "@trainer.on(Events.EPOCH_COMPLETED(every=1))\n",
    "def log_validation():\n",
    "    metrics = evaluator.state.metrics\n",
    "    \n",
    "    auc_scores.append(metrics['roc_auc'])\n",
    "    accuracy_scores.append(metrics['accuracy'])\n",
    "    bce_losses.append(metrics['bce_loss'])\n",
    "    \n",
    "    \n",
    "    epochs.append(trainer.state.epoch)\n",
    "    \n",
    "    \n",
    "    results = {\n",
    "        'epoch': epochs,\n",
    "        'auc_score': auc_scores,\n",
    "        'accuracy_score': accuracy_scores\n",
    "    }\n",
    "    \n",
    "    results_df = pd.DataFrame(data=results)\n",
    "    results_df.to_csv(f\"./results/{bert_model_name}.csv\", index=False)\n",
    "    \n",
    "    print(f\"Epoch: {trainer.state.epoch}, Accuracy: {metrics['accuracy']},  ROC_AUC: {metrics['roc_auc']} BCE_LOSS: {metrics['bce_loss']}\")\n",
    "\n",
    "\n",
    "Accuracy(output_transform= lambda x: (x[2], x[3])).attach(evaluator, \"accuracy\")\n",
    "ROC_AUC(output_transform=lambda x: (x[1], x[3])).attach(evaluator, \"roc_auc\")"
   ],
   "metadata": {
    "collapsed": false,
    "ExecuteTime": {
     "end_time": "2025-03-19T20:37:07.465755Z",
     "start_time": "2025-03-19T20:37:07.458004Z"
    }
   },
   "execution_count": 34
  },
  {
   "cell_type": "markdown",
   "source": [
    "## Early Stopping"
   ],
   "metadata": {
    "collapsed": false
   }
  },
  {
   "cell_type": "code",
   "outputs": [
    {
     "data": {
      "text/plain": "<ignite.engine.events.RemovableEventHandle at 0x1609bc790>"
     },
     "execution_count": 35,
     "metadata": {},
     "output_type": "execute_result"
    }
   ],
   "source": [
    "loss_criterion  = torch.nn.BCEWithLogitsLoss()\n",
    "loss_metric = Loss(loss_criterion, output_transform=lambda x: (x[0],x[2]))\n",
    "\n",
    "loss_metric.attach(evaluator, 'bce_loss')\n",
    "def score_function(engine):\n",
    "    val_loss = engine.state.metrics['bce_loss']\n",
    "    return -val_loss\n",
    "    \n",
    "early_stopping_handler = EarlyStopping(patience=3, score_function=score_function, trainer=trainer)\n",
    "evaluator.add_event_handler(Events.COMPLETED, early_stopping_handler)"
   ],
   "metadata": {
    "collapsed": false,
    "ExecuteTime": {
     "end_time": "2025-03-19T20:37:07.800598Z",
     "start_time": "2025-03-19T20:37:07.795917Z"
    }
   },
   "execution_count": 35
  },
  {
   "cell_type": "code",
   "outputs": [
    {
     "name": "stdout",
     "output_type": "stream",
     "text": [
      "Epoch: 1, Accuracy: 0.5,  ROC_AUC: 0.0 BCE_LOSS: 0.46582290530204773\n",
      "Epoch: 2, Accuracy: 0.5,  ROC_AUC: 0.0 BCE_LOSS: 0.6109830141067505\n",
      "Epoch: 3, Accuracy: 0.0,  ROC_AUC: 0.0 BCE_LOSS: 0.6039904952049255\n"
     ]
    },
    {
     "name": "stderr",
     "output_type": "stream",
     "text": [
      "2025-03-19 16:37:12,755 ignite.handlers.early_stopping.EarlyStopping INFO: EarlyStopping: Stop training\n"
     ]
    },
    {
     "name": "stdout",
     "output_type": "stream",
     "text": [
      "Epoch: 4, Accuracy: 0.5,  ROC_AUC: 0.0 BCE_LOSS: 0.5372545719146729\n"
     ]
    },
    {
     "data": {
      "text/plain": "State:\n\titeration: 8\n\tepoch: 4\n\tepoch_length: 2\n\tmax_epochs: 100\n\toutput: 0.6466556787490845\n\tbatch: <class 'dict'>\n\tmetrics: <class 'dict'>\n\tdataloader: <class 'torch.utils.data.dataloader.DataLoader'>\n\tseed: <class 'NoneType'>\n\ttimes: <class 'dict'>"
     },
     "execution_count": 36,
     "metadata": {},
     "output_type": "execute_result"
    }
   ],
   "source": [
    "epochs = []\n",
    "auc_scores = []\n",
    "accuracy_scores = []\n",
    "bce_losses = [] \n",
    "\n",
    "trainer.run(train_dataloader, 100)"
   ],
   "metadata": {
    "collapsed": false,
    "ExecuteTime": {
     "end_time": "2025-03-19T20:37:12.758659Z",
     "start_time": "2025-03-19T20:37:08.285775Z"
    }
   },
   "execution_count": 36
  },
  {
   "cell_type": "markdown",
   "source": [
    "## Results Plotting"
   ],
   "metadata": {
    "collapsed": false
   }
  },
  {
   "cell_type": "code",
   "outputs": [],
   "source": [
    "import matplotlib.pyplot as plt"
   ],
   "metadata": {
    "collapsed": false,
    "ExecuteTime": {
     "end_time": "2025-03-19T20:37:12.762351Z",
     "start_time": "2025-03-19T20:37:12.759900Z"
    }
   },
   "execution_count": 37
  },
  {
   "cell_type": "code",
   "outputs": [
    {
     "data": {
      "text/plain": "<matplotlib.legend.Legend at 0x1609bcc10>"
     },
     "execution_count": 38,
     "metadata": {},
     "output_type": "execute_result"
    },
    {
     "data": {
      "text/plain": "<Figure size 640x480 with 1 Axes>",
      "image/png": "[encoded data removed]"
     },
     "metadata": {},
     "output_type": "display_data"
    }
   ],
   "source": [
    "plt.plot(epochs, auc_scores, 'r--', epochs, accuracy_scores, 'b--')\n",
    "plt.legend(['AUC Score', 'Validation Accuracy',])"
   ],
   "metadata": {
    "collapsed": false,
    "ExecuteTime": {
     "end_time": "2025-03-19T20:37:12.834535Z",
     "start_time": "2025-03-19T20:37:12.763028Z"
    }
   },
   "execution_count": 38
  },
  {
   "cell_type": "markdown",
   "source": [
    "## Next Steps\n",
    "\n",
    "- check data distribution to see if you have balanced dataset\n",
    "- \n",
    "- early dropping\n",
    "- saving model"
   ],
   "metadata": {
    "collapsed": false
   }
  },
  {
   "cell_type": "code",
   "outputs": [],
   "source": [],
   "metadata": {
    "collapsed": false,
    "ExecuteTime": {
     "end_time": "2025-03-19T20:35:49.541651Z",
     "start_time": "2025-03-19T20:35:49.539810Z"
    }
   },
   "execution_count": 26
  }
 ],
 "metadata": {
  "kernelspec": {
   "display_name": "Python 3",
   "language": "python",
   "name": "python3"
  },
  "language_info": {
   "codemirror_mode": {
    "name": "ipython",
    "version": 3
   },
   "file_extension": ".py",
   "mimetype": "text/x-python",
   "name": "python",
   "nbconvert_exporter": "python",
   "pygments_lexer": "ipython3",
   "version": "3.10.9"
  }
 },
 "nbformat": 4,
 "nbformat_minor": 2
}
